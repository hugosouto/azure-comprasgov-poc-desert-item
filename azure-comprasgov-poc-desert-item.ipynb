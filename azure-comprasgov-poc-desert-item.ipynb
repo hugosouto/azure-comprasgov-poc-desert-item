{
 "cells": [
  {
   "cell_type": "code",
   "execution_count": 1,
   "metadata": {},
   "outputs": [],
   "source": [
    "from azure.ai.ml import command, Input, MLClient, UserIdentityConfiguration, ManagedIdentityConfiguration\n",
    "from azure.ai.ml.entities import Data\n",
    "from azure.ai.ml.constants import AssetTypes, InputOutputModes\n",
    "from azure.identity import DefaultAzureCredential\n",
    "\n",
    "# Set your subscription, resource group and workspace name:\n",
    "subscription_id = \"<SUBSCRIPTION_ID>\"\n",
    "resource_group = \"<RESOURCE_GROUP>\"\n",
    "workspace = \"<AML_WORKSPACE_NAME>\"\n",
    "\n",
    "# connect to the AzureML workspace\n",
    "ml_client = MLClient(\n",
    "    DefaultAzureCredential(), subscription_id, resource_group, workspace\n",
    ")"
   ]
  },
  {
   "cell_type": "code",
   "execution_count": null,
   "metadata": {},
   "outputs": [],
   "source": [
    "# ==============================================================\n",
    "# Set the URI path for the data. Supported paths include:\n",
    "# local: `./<path>\n",
    "# Blob: wasbs://<container_name>@<account_name>.blob.core.windows.net/<path>\n",
    "# ADLS: abfss://<file_system>@<account_name>.dfs.core.windows.net/<path>\n",
    "# Datastore: azureml://datastores/<data_store_name>/paths/<path>\n",
    "# Data Asset: azureml:<my_data>:<version>\n",
    "# We set the path to a file on a public blob container\n",
    "# ==============================================================\n",
    "path = \"wasbs://data@azuremlexampledata.blob.core.windows.net/titanic.csv\"\n",
    "\n",
    "# ==============================================================\n",
    "# What type of data does the path point to? Options include:\n",
    "# data_type = AssetTypes.URI_FILE # a specific file\n",
    "# data_type = AssetTypes.URI_FOLDER # a folder\n",
    "# data_type = AssetTypes.MLTABLE # an mltable\n",
    "# The path we set above is a specific file\n",
    "# ==============================================================\n",
    "data_type = AssetTypes.URI_FILE\n",
    "\n",
    "# ==============================================================\n",
    "# Set the mode. The popular modes include:\n",
    "# mode = InputOutputModes.RO_MOUNT # Read-only mount on the compute target\n",
    "# mode = InputOutputModes.DOWNLOAD # Download the data to the compute target\n",
    "# ==============================================================\n",
    "mode = InputOutputModes.RO_MOUNT\n",
    "\n",
    "# ==============================================================\n",
    "# You can set the identity you want to use in a job to access the data. Options include:\n",
    "# identity = UserIdentityConfiguration() # Use the user's identity\n",
    "# identity = ManagedIdentityConfiguration() # Use the compute target managed identity\n",
    "# ==============================================================\n",
    "# This example accesses public data, so we don't need an identity.\n",
    "# You also set identity to None if you use a credential-based datastore\n",
    "identity = None\n",
    "\n",
    "# Set the input for the job:\n",
    "inputs = {\n",
    "    \"input_data\": Input(type=data_type, path=path, mode=mode)\n",
    "}\n",
    "\n",
    "# This command job uses the head Linux command to print the first 10 lines of the file\n",
    "job = command(\n",
    "    command=\"head ${{inputs.input_data}}\",\n",
    "    inputs=inputs,\n",
    "    environment=\"azureml://registries/azureml/environments/sklearn-1.1/versions/4\",\n",
    "    compute=\"cpu-cluster\",\n",
    "    identity=identity,\n",
    ")\n",
    "\n",
    "# Submit the command\n",
    "ml_client.jobs.create_or_update(job)"
   ]
  }
 ],
 "metadata": {
  "kernelspec": {
   "display_name": "Python 3.10 - SDK v2",
   "language": "python",
   "name": "python310-sdkv2"
  },
  "language_info": {
   "codemirror_mode": {
    "name": "ipython",
    "version": 3
   },
   "file_extension": ".py",
   "mimetype": "text/x-python",
   "name": "python",
   "nbconvert_exporter": "python",
   "pygments_lexer": "ipython3",
   "version": "3.10.11"
  }
 },
 "nbformat": 4,
 "nbformat_minor": 2
}
